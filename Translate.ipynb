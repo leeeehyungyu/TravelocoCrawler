{
 "cells": [
  {
   "cell_type": "code",
   "execution_count": null,
   "metadata": {},
   "outputs": [],
   "source": [
    "import os\n",
    "import sys\n",
    "import urllib.request\n",
    "import pandas as pd\n",
    "\n",
    "f = open('../papago_traveloco_id.txt')\n",
    "client_id =  f.readline().rstrip('\\n')\n",
    "client_secret = f.readline().rstrip('\\n') \n",
    "f.close()\n"
   ]
  },
  {
   "cell_type": "code",
   "execution_count": null,
   "metadata": {},
   "outputs": [],
   "source": [
    "def translate( _input) :\n",
    "    encText = urllib.parse.quote(_input)\n",
    "    data = \"source=ja&target=ko&text=\" + encText\n",
    "    url = \"https://openapi.naver.com/v1/papago/n2mt\"\n",
    "    request = urllib.request.Request(url)\n",
    "    request.add_header(\"X-Naver-Client-Id\",client_id)\n",
    "    request.add_header(\"X-Naver-Client-Secret\",client_secret)\n",
    "    response = urllib.request.urlopen(request, data=data.encode(\"utf-8\"))\n",
    "    rescode = response.getcode()\n",
    "    if(rescode==200):\n",
    "        response_body = response.read()\n",
    "        #print(type(response_body))\n",
    "        result = literal_eval(response_body.decode('utf-8'))\n",
    "        #print(type(result))\n",
    "    else:\n",
    "        print(\"Error Code:\" + rescode)\n",
    "    \n",
    "    return result['message']['result']['translatedText']\n"
   ]
  },
  {
   "cell_type": "code",
   "execution_count": null,
   "metadata": {},
   "outputs": [],
   "source": [
    "data = pd.read_csv('../total.csv',index_col=0, encoding='ANSI')\n",
    "data['kor_Q']=None\n",
    "data['kor_C']=None\n",
    "data['kor_A']=None"
   ]
  },
  {
   "cell_type": "code",
   "execution_count": null,
   "metadata": {},
   "outputs": [],
   "source": [
    "num=len(data)\n",
    "\n",
    "for i in range(num) :\n",
    "    print(i,'번째 시작')\n",
    "    data.loc[i]['kor_Q'] = translate(data.loc[i]['Question'])\n",
    "    data.loc[i]['kor_C'] = translate(data.loc[i]['Content'])\n",
    "    data.loc[i]['kor_A'] = translate(data.loc[i]['Answer'])\n",
    "    pass"
   ]
  },
  {
   "cell_type": "code",
   "execution_count": null,
   "metadata": {},
   "outputs": [],
   "source": [
    "data\n",
    "data.to_csv(\"../total_kor.csv\")\n"
   ]
  },
  {
   "cell_type": "code",
   "execution_count": null,
   "metadata": {},
   "outputs": [],
   "source": []
  }
 ],
 "metadata": {
  "kernelspec": {
   "display_name": "Python 3",
   "language": "python",
   "name": "python3"
  },
  "language_info": {
   "codemirror_mode": {
    "name": "ipython",
    "version": 3
   },
   "file_extension": ".py",
   "mimetype": "text/x-python",
   "name": "python",
   "nbconvert_exporter": "python",
   "pygments_lexer": "ipython3",
   "version": "3.7.4"
  }
 },
 "nbformat": 4,
 "nbformat_minor": 2
}
