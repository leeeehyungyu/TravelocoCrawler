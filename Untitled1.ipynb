{
 "cells": [
  {
   "cell_type": "code",
   "execution_count": 38,
   "metadata": {
    "scrolled": false
   },
   "outputs": [],
   "source": [
    "from bs4 import BeautifulSoup\n",
    "import requests\n",
    "from urllib.request import urlopen\n",
    "import pandas as pd\n",
    "\n",
    "def find_page(URL) :\n",
    "    maximum = 1\n",
    "#    URL = 'https://traveloco.jp/loco/rqykd5222/q?p=1'\n",
    "    html = urlopen(URL)  \n",
    "    bsObject = BeautifulSoup(html, \"html.parser\") \n",
    "\n",
    "\n",
    "    page_object = bsObject.find(class_='pagination')\n",
    "\n",
    "    if page_object != None :\n",
    "        page_href=page_object.find_all('a')\n",
    "        for link in page_href:#.find('a'):\n",
    "            maximum = link.get('href')\n",
    "            pass\n",
    "\n",
    "    if maximum == 0 :\n",
    "        return 1\n",
    "    else :\n",
    "        return int(maximum[3:])\n"
   ]
  },
  {
   "cell_type": "code",
   "execution_count": 40,
   "metadata": {},
   "outputs": [
    {
     "name": "stdout",
     "output_type": "stream",
     "text": [
      "<class 'int'>\n"
     ]
    }
   ],
   "source": [
    "print(type(find_page()))"
   ]
  },
  {
   "cell_type": "code",
   "execution_count": null,
   "metadata": {},
   "outputs": [],
   "source": []
  }
 ],
 "metadata": {
  "kernelspec": {
   "display_name": "Python 3",
   "language": "python",
   "name": "python3"
  },
  "language_info": {
   "codemirror_mode": {
    "name": "ipython",
    "version": 3
   },
   "file_extension": ".py",
   "mimetype": "text/x-python",
   "name": "python",
   "nbconvert_exporter": "python",
   "pygments_lexer": "ipython3",
   "version": "3.7.4"
  }
 },
 "nbformat": 4,
 "nbformat_minor": 2
}
