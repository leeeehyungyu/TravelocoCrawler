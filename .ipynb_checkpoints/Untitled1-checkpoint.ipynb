{
 "cells": [
  {
   "cell_type": "code",
   "execution_count": 25,
   "metadata": {
    "scrolled": false
   },
   "outputs": [
    {
     "name": "stdout",
     "output_type": "stream",
     "text": [
      "[<a href=\"?p=2\">2</a>, <a href=\"?p=3\">3</a>, <a href=\"?p=4\">4</a>, <a href=\"?p=5\">5</a>, <a href=\"?p=6\">6</a>, <a href=\"?p=7\">7</a>, <a href=\"?p=8\">8</a>, <a href=\"?p=9\">9</a>, <a href=\"?p=10\">10</a>, <a href=\"?p=2\">&gt;</a>, <a href=\"?p=77\">»</a>]\n",
      "?p=2\n",
      "?p=3\n",
      "?p=4\n",
      "?p=5\n",
      "?p=6\n",
      "?p=7\n",
      "?p=8\n",
      "?p=9\n",
      "?p=10\n",
      "?p=2\n",
      "?p=77\n"
     ]
    }
   ],
   "source": [
    "from bs4 import BeautifulSoup\n",
    "import requests\n",
    "from urllib.request import urlopen\n",
    "import pandas as pd\n",
    "\n",
    "\n",
    "maximum = 0\n",
    "page = 1\n",
    "\n",
    "URL = 'https://traveloco.jp/loco/rqykd5222/q?p=1'\n",
    "response = requests.get(URL)\n",
    "source = response.text\n",
    "soup = BeautifulSoup(source, 'html.parser')\n",
    "\n",
    "#print(soup)\n",
    "\n",
    "id_html = urlopen(URL)  \n",
    "\n",
    "bsObject = BeautifulSoup(id_html, \"html.parser\") \n",
    "cnt=0\n",
    "temp = bsObject.find(class_='pagination')\n",
    "temp=temp.find_all('a')\n",
    "print(temp)\n",
    "\n",
    "for link in temp:#.find('a'):\n",
    "    find_loco = \"/loco/\"\n",
    "    del_word =\"intervie\"\n",
    "    temp1 = link.get('href')\n",
    "    print(temp1)\n",
    "  \n",
    "    pass\n"
   ]
  },
  {
   "cell_type": "code",
   "execution_count": null,
   "metadata": {},
   "outputs": [],
   "source": []
  }
 ],
 "metadata": {
  "kernelspec": {
   "display_name": "Python 3",
   "language": "python",
   "name": "python3"
  },
  "language_info": {
   "codemirror_mode": {
    "name": "ipython",
    "version": 3
   },
   "file_extension": ".py",
   "mimetype": "text/x-python",
   "name": "python",
   "nbconvert_exporter": "python",
   "pygments_lexer": "ipython3",
   "version": "3.7.4"
  }
 },
 "nbformat": 4,
 "nbformat_minor": 2
}
