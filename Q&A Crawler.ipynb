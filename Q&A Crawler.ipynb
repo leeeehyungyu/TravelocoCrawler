{
 "cells": [
  {
   "cell_type": "code",
   "execution_count": 1,
   "metadata": {},
   "outputs": [],
   "source": [
    "from urllib.request import urlopen\n",
    "from bs4 import BeautifulSoup\n",
    "import pandas as pd\n",
    "import csv\n",
    "\n",
    "\n",
    "loco_url = \"https://traveloco.jp/\"\n",
    "id_url = \"https://traveloco.jp/korea?p=\"\n",
    "df = pd.DataFrame(columns=[\"Id\",\"Question\", \"Content\", \"Answer\"])\n",
    "id_list=[]\n"
   ]
  },
  {
   "cell_type": "code",
   "execution_count": 2,
   "metadata": {},
   "outputs": [],
   "source": [
    "def find_id(id_html,id_list):\n",
    "    bsObject = BeautifulSoup(id_html, \"html.parser\") \n",
    "    cnt=0\n",
    "    for link in bsObject.find_all('a'):\n",
    "        find_loco = \"/loco/\"\n",
    "        del_word =\"intervie\"\n",
    "        temp = link.get('href')\n",
    "        if cnt==0 :\n",
    "            if (temp[0:6] == find_loco) & (temp[-9:-1]!=del_word) :\n",
    "                id_list.append(temp)\n",
    "                cnt=1\n",
    "        else :\n",
    "            cnt=0\n",
    "        pass\n"
   ]
  },
  {
   "cell_type": "code",
   "execution_count": 3,
   "metadata": {},
   "outputs": [],
   "source": [
    "def find_page(URL) :\n",
    "    maximum = 1\n",
    "#    URL = 'https://traveloco.jp/loco/rqykd5222/q?p=1'\n",
    "    html = urlopen(URL)  \n",
    "    bsObject = BeautifulSoup(html, \"html.parser\") \n",
    "\n",
    "\n",
    "    page_object = bsObject.find(class_='pagination')\n",
    "\n",
    "    if page_object != None :\n",
    "        page_href=page_object.find_all('a')\n",
    "        for link in page_href:#.find('a'):\n",
    "            maximum = link.get('href')\n",
    "            pass\n",
    "\n",
    "    if maximum == 1 :\n",
    "        return 1\n",
    "    else :\n",
    "        return int(maximum[3:])"
   ]
  },
  {
   "cell_type": "code",
   "execution_count": 4,
   "metadata": {
    "scrolled": false
   },
   "outputs": [],
   "source": [
    "def find_content(id):\n",
    "    \n",
    "    #init\n",
    "    _df = pd.DataFrame(columns=[\"Id\",\"Question\", \"Content\", \"Answer\"])\n",
    "    \n",
    "    cnt=0\n",
    "    page_min=1\n",
    "    url=\"https://traveloco.jp/loco/\"+id+\"/q?p=\"\n",
    "    #page 찾기\n",
    "    page_max = find_page(url+\"1\")\n",
    "    \n",
    "    #for문으로 돌리면서 확인\n",
    "    \n",
    "    for idx in range(page_max) :\n",
    "        cur_page=idx+1\n",
    "        test = urlopen(url+str(cur_page))\n",
    "        bsObject = BeautifulSoup(test, \"html.parser\") \n",
    "        test.close()\n",
    "        title=[]\n",
    "        question=[]\n",
    "        answer=[]\n",
    "        for link in bsObject.find_all('a'):\n",
    "            if (link.get('href')[0:6] == \"/loco/\") & (len(link.get('href'))>len(\"id\")+8):\n",
    "                if cnt==0 :\n",
    "                    title.append(link.text.strip())\n",
    "                    cnt=1\n",
    "                else :\n",
    "                    cnt=0\n",
    "            pass\n",
    "\n",
    "        for question_ in bsObject.find_all('p',class_='loco_question_content') :\n",
    "            question.append(question_.text.strip())\n",
    "            pass\n",
    "\n",
    "        for answer_ in bsObject.find_all('p',class_='loco_answer_content') :\n",
    "            answer.append(answer_.text.strip())\n",
    "            pass\n",
    "\n",
    "        if len(question) == len(answer) :\n",
    "            for i in range(len(question)) :\n",
    "                temp_df = pd.DataFrame(data=[[id,title[i+1],question[i],answer[i]]],columns=[\"Id\",\"Question\", \"Content\", \"Answer\"])\n",
    "                _df=_df.append(temp_df)\n",
    "\n",
    "    return _df"
   ]
  },
  {
   "cell_type": "code",
   "execution_count": 5,
   "metadata": {
    "scrolled": false
   },
   "outputs": [],
   "source": [
    "#한국인 로코 아이디 \n",
    "\n",
    "csv_file = open(\"../Result/id_list.csv\",\"r\",newline=\"\")\n",
    "tt=csv.reader(csv_file)\n",
    "\n",
    "for line in tt:\n",
    "    id_list = line\n",
    "csv_file.close()\n",
    "\n",
    "if len(id_list) == 0 :\n",
    "    for i in range(37):\n",
    "        id_html = urlopen(\"https://traveloco.jp/korea?p=\"+str(i+1))  \n",
    "        find_id(id_html,id_list)\n",
    "        pass\n",
    "    \n",
    "    #save\n",
    "    csv_file = open(\"../Result/id_list.csv\",\"w\",newline=\"\")\n",
    "    csvwriter = csv.writer(csv_file)\n",
    "    # for row in id_list:\n",
    "    csvwriter.writerow(id_list)\n",
    "    csv_file.close()\n",
    "\n",
    "    id_list\n",
    "    "
   ]
  },
  {
   "cell_type": "code",
   "execution_count": null,
   "metadata": {
    "scrolled": false
   },
   "outputs": [
    {
     "name": "stdout",
     "output_type": "stream",
     "text": [
      "0 /loco/rqykd5222\n"
     ]
    }
   ],
   "source": [
    "df = pd.DataFrame(columns=[\"Id\",\"Question\", \"Content\", \"Answer\"])\n",
    "idx=0\n",
    "cnt=0\n",
    "\n",
    "for id in id_list :\n",
    "    \n",
    "    print(idx,id)\n",
    "    page=1\n",
    "    \n",
    "    temp_df = find_content(id[6:])\n",
    "    df=df.append(temp_df)#,columns=[\"Id\",\"Question\", \"Content\", \"Answer\"])\n",
    "    if idx==99:\n",
    "        #저장\n",
    "        df=df.reset_index(drop=True)\n",
    "        df.to_csv(\"../Result/total_\"+str(cnt)+\".csv\")\n",
    "        cnt=cnt+1\n",
    "        \n",
    "        #init\n",
    "        df = pd.DataFrame(columns=[\"Id\",\"Question\", \"Content\", \"Answer\"])\n",
    "    \n",
    "    idx=(idx+1) % 100\n",
    "    pass\n",
    "\n"
   ]
  },
  {
   "cell_type": "code",
   "execution_count": null,
   "metadata": {},
   "outputs": [],
   "source": []
  }
 ],
 "metadata": {
  "kernelspec": {
   "display_name": "Python 3",
   "language": "python",
   "name": "python3"
  },
  "language_info": {
   "codemirror_mode": {
    "name": "ipython",
    "version": 3
   },
   "file_extension": ".py",
   "mimetype": "text/x-python",
   "name": "python",
   "nbconvert_exporter": "python",
   "pygments_lexer": "ipython3",
   "version": "3.7.4"
  }
 },
 "nbformat": 4,
 "nbformat_minor": 2
}
